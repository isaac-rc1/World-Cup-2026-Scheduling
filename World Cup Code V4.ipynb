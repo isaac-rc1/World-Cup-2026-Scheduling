{
 "cells": [
  {
   "cell_type": "markdown",
   "id": "38ff4fad-1888-41f2-9be9-13f578ae1b63",
   "metadata": {},
   "source": [
    "# StartUp"
   ]
  },
  {
   "cell_type": "code",
   "execution_count": 1,
   "id": "62fa7271-2ed4-4401-b2a9-74d226bb7f4a",
   "metadata": {},
   "outputs": [],
   "source": [
    "using JuMP\n",
    "using Gurobi"
   ]
  },
  {
   "cell_type": "markdown",
   "id": "aedae470-df81-4cf5-b255-aba43b934de1",
   "metadata": {},
   "source": [
    "# Constants"
   ]
  },
  {
   "cell_type": "code",
   "execution_count": 2,
   "id": "e8dee46e-01fc-47ff-9ad0-98b2251f174e",
   "metadata": {},
   "outputs": [],
   "source": [
    "Stadiums = 1:16;\n",
    "Countries = 1:48;\n",
    "Days = 1:16;\n",
    "Times = 1:3;\n",
    "\n",
    "#Stadiums = 17;\n",
    "#Countries = 72;\n",
    "#Days = 17;\n",
    "#Times = 3;\n",
    "\n",
    "\n",
    "\n",
    "#new coefficient for round robbins that I came up with after a comment that each team plays 3 games and I thought they were 6\n",
    "# RR stands for Round Robin\n",
    "RR = 3;\n",
    "\n",
    "DR1 = [[0 120 800 1080];\n",
    "    [140 0 680 960];\n",
    "    [800 680 0 380]; \n",
    "    [1050 960 380 0]];\n",
    "\n",
    "DR2 = [[0 570 340 930 940 1160 1330]; \n",
    "    [570 0 420 610 510 780 1020];\n",
    "    [340 420 0 940 880 1050 1220];\n",
    "    [930 610 940 0 240 460 780];\n",
    "    [940 510 880 240 0 650 800];\n",
    "    [1160 780 1050 460 650 0 800];\n",
    "    [1330 1020 1220 780 800 800 0]];\n",
    "\n",
    "DR3 = [[0 550 490 510 1480];\n",
    "    [550 0 220 310 1250]; \n",
    "    [490 220 0 100 1280];\n",
    "    [510 310 100 0 1210];\n",
    "    [1480 1250 1280 1210 0]];\n",
    "\n",
    "V0 = [\n",
    "    [0 140 800 1050 0 0 0 0 0 0 0 0 0 0 0 0],\n",
    "    [140 0 680 960 0 0 0 0 0 0 0 0 0 0 0 0],\n",
    "    [800 680 0 380 0 0 0 0 0 0 0 0 0 0 0 0], \n",
    "    [1050 960 380 0 0 0 0 0 0 0 0 0 0 0 0 0],\n",
    "    [0 0 0 0 0 570 340 930 940 1160 1330 0 0 0 0 0], \n",
    "    [0 0 0 0 570 0 420 610 510 780 1020 0 0 0 0 0], \n",
    "    [0 0 0 0 340 420 0 940 880 1050 1220 0 0 0 0 0], \n",
    "    [0 0 0 0 930 610 940 0 240 460 780 0 0 0 0 0], \n",
    "    [0 0 0 0 940 510 880 240 0 650 800 0 0 0 0 0], \n",
    "    [0 0 0 0 1160 780 1050 460 650 0 800 0 0 0 0 0], \n",
    "    [0 0 0 0 1330 1020 1220 780 800 800 0 0 0 0 0 0], \n",
    "    [0 0 0 0 0 0 0 0 0 0 0 0 0 550 490 510 1480],\n",
    "    [0 0 0 0 0 0 0 0 0 0 0 0 550 0 220 310 1250],\n",
    "    [0 0 0 0 0 0 0 0 0 0 0 0 490 220 0 100 1280],\n",
    "    [0 0 0 0 0 0 0 0 0 0 0 0 510 310 100 0 1210],\n",
    "    [0 0 0 0 0 0 0 0 0 0 0 0 1480 1250 1280 1210 0]\n",
    "    ]\n",
    "\n",
    "M = 9999;\n",
    "VM = [\n",
    "    [M 140 800 1050 M M M M M M M M M M M M];\n",
    "    [140 M 680 960 M M M M M M M M M M M M];\n",
    "    [800 680 M 380 M M M M M M M M M M M M]; \n",
    "    [1050 960 380 M M M M M M M M M M M M M];\n",
    "    [M M M M M 570 340 930 940 1160 1330 M M M M M]; \n",
    "    [M M M M 570 M 420 610 510 780 1020 M M M M M];\n",
    "    [M M M M 340 420 M 940 880 1050 1220 M M M M M]; \n",
    "    [M M M M 930 610 940 M 240 460 780 M M M M M]; \n",
    "    [M M M M 940 510 880 240 M 650 800 M M M M M]; \n",
    "    [M M M M 1160 780 1050 460 650 M 800 M M M M M]; \n",
    "    [M M M M 1330 1020 1220 780 800 800 M M M M M M]; \n",
    "    [M M M M M M M M M M M M 550 490 510 1480];\n",
    "    [M M M M M M M M M M M 550 M 220 310 1250];\n",
    "    [M M M M M M M M M M M 490 220 M 100 1280];\n",
    "    [M M M M M M M M M M M 510 310 100 M 1210];\n",
    "    [M M M M M M M M M M M 1480 1250 1280 1210 M]\n",
    "    ]\n",
    "\n",
    "V = [[0 140 800 1050 1000000 1000000 1000000 1000000 1000000 1000000 1000000 1000000 1000000 1000000 1000000 1000000 ];\n",
    "    [140 0 680 960 1000000 1000000 1000000 1000000 1000000 1000000 1000000 1000000 1000000 1000000 1000000 1000000 ];\n",
    "    [800 680 0 380 1000000 1000000 1000000 1000000 1000000 1000000 1000000 1000000 1000000 1000000 1000000 1000000 ];\n",
    "    [1050 960 380 0 1000000 1000000 1000000 1000000 1000000 1000000 1000000 1000000 1000000 1000000 1000000 1000000 ];\n",
    "    [1000000 1000000 1000000 1000000 0 570 340 930 940 1160 1330 1000000 1000000 1000000 1000000 1000000 ]; \n",
    "    [1000000 1000000 1000000 1000000 570 0 420 610 510 780 1020 1000000 1000000 1000000 1000000 1000000 ]; \n",
    "    [1000000 1000000 1000000 1000000 340 420 0 940 880 1050 1220 1000000 1000000 1000000 1000000 1000000 ]; \n",
    "    [1000000 1000000 1000000 1000000 930 610 940 0 240 460 780 1000000 1000000 1000000 1000000 1000000 ]; \n",
    "    [1000000 1000000 1000000 1000000 940 510 880 240 0 650 800 1000000 1000000 1000000 1000000 1000000 ]; \n",
    "    [1000000 1000000 1000000 1000000 1160 780 1050 460 650 0 800 1000000 1000000 1000000 1000000 1000000 ]; \n",
    "    [1000000 1000000 1000000 1000000 1330 1020 1220 780 800 800 0 1000000 1000000 1000000 1000000 1000000 ]; \n",
    "    [1000000 1000000 1000000 1000000 1000000 1000000 1000000 1000000 1000000 1000000 1000000 0 550 490 510 1480];\n",
    "    [1000000 1000000 1000000 1000000 1000000 1000000 1000000 1000000 1000000 1000000 1000000 550 0 220 310 1250];\n",
    "    [1000000 1000000 1000000 1000000 1000000 1000000 1000000 1000000 1000000 1000000 1000000 490 220 0 100 1280];\n",
    "    [1000000 1000000 1000000 1000000 1000000 1000000 1000000 1000000 1000000 1000000 1000000 510 310 100 0 1210];\n",
    "    [1000000 1000000 1000000 1000000 1000000 1000000 1000000 1000000 1000000 1000000 1000000 1480 1250 1280 1210 0]]\n",
    "\n",
    "\n",
    "LD = [1 3 4 4 4 4 4 4 4 4 4 4 4 6 6 6 6];"
   ]
  },
  {
   "cell_type": "markdown",
   "id": "9f2a0304-c17b-4acb-8340-0e55fdc18b98",
   "metadata": {},
   "source": [
    "# Gurobi Model Creation"
   ]
  },
  {
   "cell_type": "code",
   "execution_count": 3,
   "id": "d3b1bad7-f085-4ea6-a255-f88bdb5491e6",
   "metadata": {},
   "outputs": [
    {
     "name": "stdout",
     "output_type": "stream",
     "text": [
      "Set parameter Username\n",
      "Set parameter LicenseID to value 2685810\n",
      "Academic license - for non-commercial use only - expires 2026-07-09\n"
     ]
    }
   ],
   "source": [
    "model = Model(Gurobi.Optimizer);\n"
   ]
  },
  {
   "cell_type": "markdown",
   "id": "095a88f4-0e7e-487e-a269-d6447417fe7f",
   "metadata": {},
   "source": [
    "## Variables"
   ]
  },
  {
   "cell_type": "code",
   "execution_count": 4,
   "id": "288809fd-c233-4ba7-96ba-6921e7ad68fe",
   "metadata": {},
   "outputs": [],
   "source": [
    "@variable(model, X[c in Countries, s in Stadiums], Bin);\n",
    "@variable(model, Y[c1 in Countries, c2 in Countries, d in Days], Bin);  \n",
    "@variable(model, Z[c in Countries, d in Days, t in Times], Bin);"
   ]
  },
  {
   "cell_type": "markdown",
   "id": "36f5fe03-7a4b-4b1d-add9-9ca88d277683",
   "metadata": {},
   "source": [
    "## Objective"
   ]
  },
  {
   "cell_type": "code",
   "execution_count": 5,
   "id": "d801854a-c4f4-42c9-b2ce-2b2d66ffa91f",
   "metadata": {},
   "outputs": [
    {
     "data": {
      "text/latex": [
       "$ 280 X_{1,1}\\times X_{1,2} + 1600 X_{1,1}\\times X_{1,3} + 2100 X_{1,1}\\times X_{1,4} + 2000000 X_{1,1}\\times X_{1,5} + 2000000 X_{1,1}\\times X_{1,6} + 2000000 X_{1,1}\\times X_{1,7} + 2000000 X_{1,1}\\times X_{1,8} + 2000000 X_{1,1}\\times X_{1,9} + 2000000 X_{1,1}\\times X_{1,10} + 2000000 X_{1,1}\\times X_{1,11} + 2000000 X_{1,1}\\times X_{1,12} + 2000000 X_{1,1}\\times X_{1,13} + 2000000 X_{1,1}\\times X_{1,14} + 2000000 X_{1,1}\\times X_{1,15} + 2000000 X_{1,1}\\times X_{1,16} + 1360 X_{1,2}\\times X_{1,3} + 1920 X_{1,2}\\times X_{1,4} + 2000000 X_{1,2}\\times X_{1,5} + 2000000 X_{1,2}\\times X_{1,6} + 2000000 X_{1,2}\\times X_{1,7} + 2000000 X_{1,2}\\times X_{1,8} + 2000000 X_{1,2}\\times X_{1,9} + 2000000 X_{1,2}\\times X_{1,10} + 2000000 X_{1,2}\\times X_{1,11} + 2000000 X_{1,2}\\times X_{1,12} + 2000000 X_{1,2}\\times X_{1,13} + 2000000 X_{1,2}\\times X_{1,14} + 2000000 X_{1,2}\\times X_{1,15} + 2000000 X_{1,2}\\times X_{1,16} + 760 X_{1,3}\\times X_{1,4} + [[\\ldots\\text{5700 terms omitted}\\ldots]] + 2000000 X_{48,8}\\times X_{48,15} + 2000000 X_{48,8}\\times X_{48,16} + 1300 X_{48,9}\\times X_{48,10} + 1600 X_{48,9}\\times X_{48,11} + 2000000 X_{48,9}\\times X_{48,12} + 2000000 X_{48,9}\\times X_{48,13} + 2000000 X_{48,9}\\times X_{48,14} + 2000000 X_{48,9}\\times X_{48,15} + 2000000 X_{48,9}\\times X_{48,16} + 1600 X_{48,10}\\times X_{48,11} + 2000000 X_{48,10}\\times X_{48,12} + 2000000 X_{48,10}\\times X_{48,13} + 2000000 X_{48,10}\\times X_{48,14} + 2000000 X_{48,10}\\times X_{48,15} + 2000000 X_{48,10}\\times X_{48,16} + 2000000 X_{48,11}\\times X_{48,12} + 2000000 X_{48,11}\\times X_{48,13} + 2000000 X_{48,11}\\times X_{48,14} + 2000000 X_{48,11}\\times X_{48,15} + 2000000 X_{48,11}\\times X_{48,16} + 1100 X_{48,12}\\times X_{48,13} + 980 X_{48,12}\\times X_{48,14} + 1020 X_{48,12}\\times X_{48,15} + 2960 X_{48,12}\\times X_{48,16} + 440 X_{48,13}\\times X_{48,14} + 620 X_{48,13}\\times X_{48,15} + 2500 X_{48,13}\\times X_{48,16} + 200 X_{48,14}\\times X_{48,15} + 2560 X_{48,14}\\times X_{48,16} + 2420 X_{48,15}\\times X_{48,16} $"
      ],
      "text/plain": [
       "280 X[1,1]*X[1,2] + 1600 X[1,1]*X[1,3] + 2100 X[1,1]*X[1,4] + 2000000 X[1,1]*X[1,5] + 2000000 X[1,1]*X[1,6] + 2000000 X[1,1]*X[1,7] + 2000000 X[1,1]*X[1,8] + 2000000 X[1,1]*X[1,9] + 2000000 X[1,1]*X[1,10] + 2000000 X[1,1]*X[1,11] + 2000000 X[1,1]*X[1,12] + 2000000 X[1,1]*X[1,13] + 2000000 X[1,1]*X[1,14] + 2000000 X[1,1]*X[1,15] + 2000000 X[1,1]*X[1,16] + 1360 X[1,2]*X[1,3] + 1920 X[1,2]*X[1,4] + 2000000 X[1,2]*X[1,5] + 2000000 X[1,2]*X[1,6] + 2000000 X[1,2]*X[1,7] + 2000000 X[1,2]*X[1,8] + 2000000 X[1,2]*X[1,9] + 2000000 X[1,2]*X[1,10] + 2000000 X[1,2]*X[1,11] + 2000000 X[1,2]*X[1,12] + 2000000 X[1,2]*X[1,13] + 2000000 X[1,2]*X[1,14] + 2000000 X[1,2]*X[1,15] + 2000000 X[1,2]*X[1,16] + 760 X[1,3]*X[1,4] + [[...5700 terms omitted...]] + 2000000 X[48,8]*X[48,15] + 2000000 X[48,8]*X[48,16] + 1300 X[48,9]*X[48,10] + 1600 X[48,9]*X[48,11] + 2000000 X[48,9]*X[48,12] + 2000000 X[48,9]*X[48,13] + 2000000 X[48,9]*X[48,14] + 2000000 X[48,9]*X[48,15] + 2000000 X[48,9]*X[48,16] + 1600 X[48,10]*X[48,11] + 2000000 X[48,10]*X[48,12] + 2000000 X[48,10]*X[48,13] + 2000000 X[48,10]*X[48,14] + 2000000 X[48,10]*X[48,15] + 2000000 X[48,10]*X[48,16] + 2000000 X[48,11]*X[48,12] + 2000000 X[48,11]*X[48,13] + 2000000 X[48,11]*X[48,14] + 2000000 X[48,11]*X[48,15] + 2000000 X[48,11]*X[48,16] + 1100 X[48,12]*X[48,13] + 980 X[48,12]*X[48,14] + 1020 X[48,12]*X[48,15] + 2960 X[48,12]*X[48,16] + 440 X[48,13]*X[48,14] + 620 X[48,13]*X[48,15] + 2500 X[48,13]*X[48,16] + 200 X[48,14]*X[48,15] + 2560 X[48,14]*X[48,16] + 2420 X[48,15]*X[48,16]"
      ]
     },
     "execution_count": 5,
     "metadata": {},
     "output_type": "execute_result"
    }
   ],
   "source": [
    "@objective(model, Min, sum(\n",
    "    V[s1, s2] * X[c, s1] * X[c, s2]\n",
    "    for c in Countries, s1 in 1:16, s2 in 1:16))\n"
   ]
  },
  {
   "cell_type": "markdown",
   "id": "9f22815b-5529-43e4-aadc-0cad152b4ab7",
   "metadata": {},
   "source": [
    "# Constraints"
   ]
  },
  {
   "cell_type": "markdown",
   "id": "92891037-058c-4f8e-8232-42e28377dfb1",
   "metadata": {},
   "source": [
    "### Model Breakers"
   ]
  },
  {
   "cell_type": "code",
   "execution_count": 6,
   "id": "1027ab5b-20ef-48b3-8560-14a7199683cb",
   "metadata": {},
   "outputs": [],
   "source": [
    "# Round Robbin Matches\n",
    "@constraint(model, [c in Countries], \n",
    "    sum(Z[c, d, t] for d in Days, t in Times) == RR);\n",
    "\n",
    "# Match ensuring Constraints\n",
    "@constraint(model, [c1 in Countries, c2 in Countries, d in Days],\n",
    "        sum(X[c1, s] * X[c2, s] for s in Stadiums) <= Y[c1, c2, d]);\n",
    "\n",
    "@constraint(model, [c1 in Countries, c2 in Countries, d in Days],\n",
    "        sum(Z[c1, d, t] * Z[c2, d, t] for t in Times) <= Y[c1, c2, d]);\n",
    "\n"
   ]
  },
  {
   "cell_type": "markdown",
   "id": "d1120eb1-48ce-4d62-9598-0dbc3032648d",
   "metadata": {},
   "source": [
    "### Special Constraints Outlined by Rubric"
   ]
  },
  {
   "cell_type": "code",
   "execution_count": 7,
   "id": "dade0255-317b-41da-b579-16d15135514d",
   "metadata": {},
   "outputs": [],
   "source": [
    "# MX opening match on June 11 8PM at Estadio Azteca \n",
    "@constraint(model, Z[1, 1, 3] == 1);\n",
    "@constraint(model, X[1, 5] == 1);\n",
    "\n",
    "\n",
    "# USA opening match on June 12 8PM at SoFi Stadium \n",
    "@constraint(model, Z[2, 2, 3] == 1);\n",
    "@constraint(model, X[1, 5] == 1);\n",
    "\n",
    "# CAN opening match on June 12 8PM at BMO Field \n",
    "@constraint(model, Z[3, 2, 3] == 1);\n",
    "@constraint(model, X[3, 12] == 1);\n",
    "\n",
    "# Daily Match Limit\n",
    "@constraint(model, [d in 3:maximum(Days)], sum(Y[i,j,d] for i in Countries, j in Countries) <= LD[d]);\n",
    "\n",
    "# Each Stadium Hosts at least one match\n",
    "@constraint(model, [s in Stadiums], sum(X[c, s] for c in Countries) >= 1);\n",
    "\n",
    "# Match distribution accross stadiums is approximately equal\n",
    "\n",
    "@constraint(model, [s in 1:length(Stadiums)-1], \n",
    "        sum(X[c, s] for c in Countries) - sum(X[c, s+1] for c in Countries) <= 1);\n",
    "\n",
    "@constraint(model, [s in 1:length(Stadiums)-1], \n",
    "        sum(X[c, s+1] for c in Countries) - sum(X[c, s] for c in Countries) <= 1);\n",
    "\n",
    "# Teams don't play more than once per day\n",
    "@constraint(model, [c in Countries, d in Days], sum(Z[c, d, t] for t in Times) <= 1);\n",
    "\n",
    "# Two days of rest between matches\n",
    "@constraint(model, [c in Countries, d in 1:(maximum(Days)-2)], \n",
    "        sum(Z[c, d, t] for t in Times) +\n",
    "        sum(Z[c, d+1, t] for t in Times) +\n",
    "        sum(Z[c, d+2, t] for t in Times) <= 1);\n",
    "\n",
    "# No overlapping matches of same stadium same time\n",
    "@constraint(model, [s in Stadiums, d in Days, t in Times], sum(X[c, s] * Z[c, d, t] for c in Countries) <= 2);\n",
    "\n",
    "# Host nations only play at 8 PM\n",
    "#MX\n",
    "@constraint(model, sum(Z[1, d, 1] for d in Days) + sum(Z[1, d, 2] for d in Days) == 0);\n",
    "\n",
    "#USA\n",
    "@constraint(model, sum(Z[2, d, 1] for d in Days) + sum(Z[2, d, 2] for d in Days) == 0);\n",
    "\n",
    "#CAN\n",
    "@constraint(model, sum(Z[3, d, 1] for d in Days) + sum(Z[3, d, 2] for d in Days) == 0);\n",
    "\n",
    "#Symmetry\n",
    "@constraint(model, [i in Countries, j in Countries], \n",
    "    sum(Y[i, j, d] + Y[j, i, d] for d in Days) <= 1); \n",
    "\n",
    "# Team doesn't play itself, deprecated constraint but I still wanted to keep to keep it around in my notes \n",
    "@constraint(model, [c in Countries], sum(Y[c, c, d] for d in Days) == 0);\n",
    "\n",
    "# Matches don't repeat\n",
    "@constraint(model, [i in Countries, j in Countries], sum(Y[i, j, d] for d in Days) <= 1);"
   ]
  },
  {
   "cell_type": "code",
   "execution_count": null,
   "id": "3ea6db56-f6bf-4542-b56c-81b1afa5e63a",
   "metadata": {},
   "outputs": [],
   "source": []
  },
  {
   "cell_type": "markdown",
   "id": "903aac23-2e40-4c67-ae7c-cd85c3b153a7",
   "metadata": {},
   "source": [
    "### Optimization"
   ]
  },
  {
   "cell_type": "code",
   "execution_count": 8,
   "id": "537a5efe-87e4-4059-888f-42933b23f2bc",
   "metadata": {},
   "outputs": [
    {
     "name": "stdout",
     "output_type": "stream",
     "text": [
      "Gurobi Optimizer version 12.0.2 build v12.0.2rc0 (linux64 - \"Ubuntu 24.04.2 LTS\")\n",
      "\n",
      "CPU model: 11th Gen Intel(R) Core(TM) i3-1115G4 @ 3.00GHz, instruction set [SSE2|AVX|AVX2|AVX512]\n",
      "Thread count: 2 physical cores, 4 logical processors, using up to 4 threads\n",
      "\n",
      "Optimize a model with 6213 rows, 39936 columns and 157254 nonzeros\n",
      "Model fingerprint: 0x39b41622\n",
      "Model has 5760 quadratic objective terms\n",
      "Model has 74496 quadratic constraints\n",
      "Variable types: 0 continuous, 39936 integer (39936 binary)\n",
      "Coefficient statistics:\n",
      "  Matrix range     [1e+00, 2e+00]\n",
      "  QMatrix range    [1e+00, 1e+00]\n",
      "  QLMatrix range   [1e+00, 1e+00]\n",
      "  Objective range  [0e+00, 0e+00]\n",
      "  QObjective range [4e+02, 4e+06]\n",
      "  Bounds range     [0e+00, 0e+00]\n",
      "  RHS range        [1e+00, 6e+00]\n",
      "  QRHS range       [2e+00, 2e+00]\n",
      "Presolve added 1536 rows and 0 columns\n",
      "Presolve time: 0.08s\n",
      "\n",
      "Explored 0 nodes (0 simplex iterations) in 0.09 seconds (0.13 work units)\n",
      "Thread count was 1 (of 4 available processors)\n",
      "\n",
      "Solution count 0\n",
      "\n",
      "Model is infeasible or unbounded\n",
      "Best objective -, best bound -, gap -\n",
      "\n",
      "User-callback calls 41, time in user-callback 0.00 sec\n"
     ]
    }
   ],
   "source": [
    "optimize!(model)\n",
    "\n"
   ]
  },
  {
   "cell_type": "code",
   "execution_count": null,
   "id": "44f8fdaf-aa28-4c4e-8c40-4ca35004ccaf",
   "metadata": {},
   "outputs": [],
   "source": []
  }
 ],
 "metadata": {
  "kernelspec": {
   "display_name": "Julia 1.10.3",
   "language": "julia",
   "name": "julia-1.10"
  },
  "language_info": {
   "file_extension": ".jl",
   "mimetype": "application/julia",
   "name": "julia",
   "version": "1.11.6"
  }
 },
 "nbformat": 4,
 "nbformat_minor": 5
}
